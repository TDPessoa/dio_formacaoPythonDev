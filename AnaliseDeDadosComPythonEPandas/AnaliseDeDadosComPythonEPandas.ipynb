{
  "nbformat": 4,
  "nbformat_minor": 0,
  "metadata": {
    "colab": {
      "provenance": []
    },
    "kernelspec": {
      "name": "python3",
      "display_name": "Python 3"
    },
    "language_info": {
      "name": "python"
    }
  },
  "cells": [
    {
      "cell_type": "markdown",
      "source": [
        "## **Do Script:**"
      ],
      "metadata": {
        "id": "C9c7AEWM6L7w"
      }
    },
    {
      "cell_type": "markdown",
      "source": [
        "### Importações:"
      ],
      "metadata": {
        "id": "zfK5Ev3vlZZX"
      }
    },
    {
      "cell_type": "code",
      "execution_count": 1,
      "metadata": {
        "id": "q3rm3UT0gfJH"
      },
      "outputs": [],
      "source": [
        "import pandas as pd\n",
        "from random import randint as r_int\n",
        "from random import choice\n",
        "from datetime import datetime"
      ]
    },
    {
      "cell_type": "markdown",
      "source": [
        "### Funções:"
      ],
      "metadata": {
        "id": "uVpZlcYV8nVB"
      }
    },
    {
      "cell_type": "markdown",
      "source": [
        "#### Função validadora de saques:\n",
        "> Para assertar que nenhuma conta tenha saldo negativo na geração de dados."
      ],
      "metadata": {
        "id": "fWy98zsFd5ru"
      }
    },
    {
      "cell_type": "code",
      "source": [
        "def validar_saque(id_conta: int, valor_saque:float) -> bool:\n",
        "  df = pd.DataFrame(tabelas['Transacao'])\n",
        "\n",
        "  transacoes_da_conta = df.query(f'id_Conta == {id_conta}')\n",
        "  transacoes_deposito = transacoes_da_conta.query('tipo_transacao == \"Deposito\"')\n",
        "  transacoes_saque = transacoes_da_conta.query('tipo_transacao == \"Saque\"')\n",
        "\n",
        "  saldo = transacoes_deposito['valor'].sum() - transacoes_saque['valor'].sum()\n",
        "  ver_final = saldo >= valor_saque and not (saldo == 0)\n",
        "  return saldo >= valor_saque and not (saldo == 0)"
      ],
      "metadata": {
        "id": "97iUSXcmd4tP"
      },
      "execution_count": 2,
      "outputs": []
    },
    {
      "cell_type": "markdown",
      "source": [
        "#### Função buscadora de número:\n",
        "> Retorna o maior valor de número de conta para a agencia passada."
      ],
      "metadata": {
        "id": "f69hg2MS8sKH"
      }
    },
    {
      "cell_type": "code",
      "source": [
        "def maior_numero(ag: int) -> int:\n",
        "  df = pd.DataFrame(tabelas['Conta'])\n",
        "\n",
        "  q_agencia = df.query(f'agencia == \"{ag}\"')\n",
        "  return q_agencia.shape[0]"
      ],
      "metadata": {
        "id": "Ozr1qPT79F94"
      },
      "execution_count": 3,
      "outputs": []
    },
    {
      "cell_type": "markdown",
      "source": [
        "#### Função geradora de data:"
      ],
      "metadata": {
        "id": "n4pxSQhyaoou"
      }
    },
    {
      "cell_type": "code",
      "source": [
        "def gerar_data(alto_alcance=False) -> datetime:\n",
        "  min = 2010\n",
        "  max = 2024\n",
        "  if alto_alcance:\n",
        "    min = 1965\n",
        "    max = 2006\n",
        "\n",
        "  while True:\n",
        "    try:\n",
        "      nova_data = datetime(r_int(min, max), r_int(1, 12), r_int(1, 31))\n",
        "      return nova_data\n",
        "    except ValueError:\n",
        "      pass"
      ],
      "metadata": {
        "id": "qxgktjxNC0Ik"
      },
      "execution_count": 4,
      "outputs": []
    },
    {
      "cell_type": "markdown",
      "source": [
        "### Estruturas Principais:\n",
        "> Definindo as estruturas dos datasets e passando as informações de Clientes,  \n",
        "> visto que será muito trabalhoso desenvolver um gerador de nomes e cadastros  \n",
        "> `[cpf/cnpj]` aleatórios."
      ],
      "metadata": {
        "id": "WSIxFf-_hai1"
      }
    },
    {
      "cell_type": "code",
      "source": [
        "tabelas = {\n",
        "  'Cliente': {\n",
        "    'id': [1, 2, 3, 4, 5, 6, 7, 8, 9, 10, 11, 12, 13, 14, 15],\n",
        "    'nome': [\n",
        "      'Pantheon Locações de Automóveis ME', 'Fábio Caio Lucas Novaes',\n",
        "      'Maria Emilly Tânia Gomes', 'Thomas Isaac Pereira',\n",
        "      'Laura Eletrônica Ltda', 'Larissa Bianca da Silva',\n",
        "      'Giga Publicidade e Propaganda Ltda', 'Marcos Vitor Santos',\n",
        "      'Mário Luan Martins', 'Sahara Casa Noturna ME',\n",
        "      'Pedro Cauê Emanuel Moraes', 'Brenda Simone Aparecida Barbosa',\n",
        "      'Pedro Henrique Gael Vieira', 'Theo Tiago Vicente Nascimento',\n",
        "      'Morena Filmagens ME'\n",
        "    ],\n",
        "    'data_nascimento': [\n",
        "        gerar_data(True), gerar_data(True), gerar_data(True), gerar_data(True),\n",
        "        gerar_data(True), gerar_data(True), gerar_data(True), gerar_data(True),\n",
        "        gerar_data(True), gerar_data(True), gerar_data(True), gerar_data(True),\n",
        "        gerar_data(True), gerar_data(True), gerar_data(True)\n",
        "    ],\n",
        "    'cadastro': [\n",
        "      46757945000153, 21673834604, 63953636464, 43764036796, 38246690000136,\n",
        "      71239473559, 15995255000109, 71319564739, 37164721319, 90078195000185,\n",
        "      65925496450, 13595021738, 58212019187, 74030018858, 26545004000149\n",
        "    ],\n",
        "    'tipo_pessoa': [\n",
        "      'PJ', 'PF', 'PF', 'PF', 'PJ', 'PF', 'PJ', 'PF', 'PF', 'PJ', 'PF', 'PF',\n",
        "      'PF', 'PF', 'PJ'\n",
        "    ]\n",
        "  },\n",
        "  'Conta': {\n",
        "    'id': [],\n",
        "    'agencia': [],\n",
        "    'numero': [],\n",
        "    'id_Cliente': []\n",
        "  },\n",
        "  'Transacao': {\n",
        "    'data': [],\n",
        "    'valor': [],\n",
        "    'tipo_transacao': [],\n",
        "    'id_Conta': []\n",
        "  }\n",
        "}"
      ],
      "metadata": {
        "id": "TzwRjp3jhWMG"
      },
      "execution_count": 5,
      "outputs": []
    },
    {
      "cell_type": "markdown",
      "source": [
        "### Gerando dados para o dataset 'Conta'\n",
        "> Irá:\n",
        "> > Gerar entre 20 e 40 contas, com uma chave primária auto-incremental;  \n",
        "> > Escolher com `random.choice` uma entre cinco opções para agência;  \n",
        "> > incrementar ao número de contas presentes na agência para o número; e  \n",
        "> > associar uma chave estrangeira de um dos clientes criados."
      ],
      "metadata": {
        "id": "Rv_fTJVsjyJ5"
      }
    },
    {
      "cell_type": "code",
      "source": [
        "i = 1\n",
        "for _ in range(r_int(20, 40)):\n",
        "  agencia = choice(['1345', '1884', '1992', '0433', '1001'])\n",
        "  proximo_numero = int(maior_numero(agencia) + 1)\n",
        "  id_cli = choice(tabelas['Cliente']['id'])\n",
        "\n",
        "  tabelas['Conta']['id'].append(i)\n",
        "  tabelas['Conta']['agencia'].append(agencia)\n",
        "  tabelas['Conta']['numero'].append(f'{proximo_numero:04d}')\n",
        "  tabelas['Conta']['id_Cliente'].append(id_cli)\n",
        "\n",
        "  i += 1"
      ],
      "metadata": {
        "id": "zCayVVX-i5jd"
      },
      "execution_count": 6,
      "outputs": []
    },
    {
      "cell_type": "markdown",
      "source": [
        "### Gerando dados para o dataset 'Transacao'"
      ],
      "metadata": {
        "id": "cb9R3J89jPFy"
      }
    },
    {
      "cell_type": "code",
      "source": [
        "for _ in range(r_int(1000, 1500)):\n",
        "  id_conta = choice(tabelas['Conta']['id'])\n",
        "\n",
        "  # Posto em um bloco `while True`, para assegurar que a conta não tenha saldo  _\n",
        "  #   negativo.\n",
        "  while True:\n",
        "    valor = r_int(0,250000) + (r_int(0,100)/100)\n",
        "    tipo_transacao = choice(['Deposito', 'Saque'])\n",
        "    if tipo_transacao == 'Deposito':\n",
        "      break\n",
        "    elif validar_saque(id_conta, valor):\n",
        "      break\n",
        "\n",
        "  tabelas['Transacao']['data'].append(gerar_data())\n",
        "  tabelas['Transacao']['tipo_transacao'].append(tipo_transacao)\n",
        "  tabelas['Transacao']['valor'].append(valor)\n",
        "  tabelas['Transacao']['id_Conta'].append(id_conta)"
      ],
      "metadata": {
        "id": "dyJE7LLujMSZ"
      },
      "execution_count": 7,
      "outputs": []
    },
    {
      "cell_type": "markdown",
      "source": [
        "### Transformando os datasets em DataFrames"
      ],
      "metadata": {
        "id": "anyu1rwpi9gQ"
      }
    },
    {
      "cell_type": "code",
      "source": [
        "clientes = pd.DataFrame(tabelas['Cliente'])\n",
        "contas = pd.DataFrame(tabelas['Conta'])\n",
        "transacoes = pd.DataFrame(tabelas['Transacao'])"
      ],
      "metadata": {
        "id": "Wbtdn2XIi8K-"
      },
      "execution_count": 8,
      "outputs": []
    },
    {
      "cell_type": "markdown",
      "source": [
        "### Verificando as dimensões dos DataFrames\n"
      ],
      "metadata": {
        "id": "fcvbOcRuDTEp"
      }
    },
    {
      "cell_type": "code",
      "source": [
        "print(f'O DataFrame `clientes` tem {clientes.shape[1]} colunas e {clientes.shape[0]} linhas.')\n",
        "print(f'O DataFrame `contas` tem {contas.shape[1]} colunas e {contas.shape[0]} linhas.')\n",
        "print(f'O DataFrame `transacoes` tem {transacoes.shape[1]} colunas e {transacoes.shape[0]} linhas.')"
      ],
      "metadata": {
        "colab": {
          "base_uri": "https://localhost:8080/"
        },
        "id": "FtsvbxaNDSWa",
        "outputId": "f9da7cb1-5b23-46d6-8f0d-0c601cb8299b"
      },
      "execution_count": 9,
      "outputs": [
        {
          "output_type": "stream",
          "name": "stdout",
          "text": [
            "O DataFrame `clientes` tem 5 colunas e 15 linhas.\n",
            "O DataFrame `contas` tem 4 colunas e 34 linhas.\n",
            "O DataFrame `transacoes` tem 4 colunas e 1457 linhas.\n"
          ]
        }
      ]
    },
    {
      "cell_type": "markdown",
      "source": [
        "## **Das Consultas:**\n"
      ],
      "metadata": {
        "id": "Q8G39KojD12l"
      }
    },
    {
      "cell_type": "markdown",
      "source": [
        "### Com visualização por tabelas"
      ],
      "metadata": {
        "id": "NwM0SXti-95H"
      }
    },
    {
      "cell_type": "markdown",
      "source": [
        "#### >> Contagem de transações por tipo:"
      ],
      "metadata": {
        "id": "hKD4hfTqENMO"
      }
    },
    {
      "cell_type": "code",
      "source": [
        "consulta_contagem_transacoes_por_tipo = pd.DataFrame([transacoes['tipo_transacao'].value_counts()])\n",
        "print(consulta_contagem_transacoes_por_tipo)"
      ],
      "metadata": {
        "colab": {
          "base_uri": "https://localhost:8080/"
        },
        "id": "qQQ3lwMWEL2x",
        "outputId": "02e01c39-6a89-4ef0-ff57-263cf9bb9471"
      },
      "execution_count": 10,
      "outputs": [
        {
          "output_type": "stream",
          "name": "stdout",
          "text": [
            "tipo_transacao  Deposito  Saque\n",
            "count                808    649\n"
          ]
        }
      ]
    },
    {
      "cell_type": "markdown",
      "source": [
        "#### >> Constagem de contas por agencia"
      ],
      "metadata": {
        "id": "GK8fmZovnwIY"
      }
    },
    {
      "cell_type": "code",
      "source": [
        "consulta_contagem_conta_por_agencia = contas['agencia'].value_counts(ascending=False)\n",
        "print(consulta_contagem_conta_por_agencia)"
      ],
      "metadata": {
        "colab": {
          "base_uri": "https://localhost:8080/"
        },
        "id": "_sBpSTCSPKNZ",
        "outputId": "4589ee89-f1fe-4f06-d6b4-57d6abc25f39"
      },
      "execution_count": 11,
      "outputs": [
        {
          "output_type": "stream",
          "name": "stdout",
          "text": [
            "agencia\n",
            "1345    9\n",
            "1992    8\n",
            "1001    7\n",
            "1884    6\n",
            "0433    4\n",
            "Name: count, dtype: int64\n"
          ]
        }
      ]
    },
    {
      "cell_type": "markdown",
      "source": [
        "#### >> Saldo total por Conta:"
      ],
      "metadata": {
        "id": "b_HZLjYnI0l8"
      }
    },
    {
      "cell_type": "code",
      "source": [
        "consulta_depositos = (\n",
        "  transacoes\n",
        "    .query('tipo_transacao == \"Deposito\"')\n",
        "      .groupby(by='id_Conta')\n",
        "        ['valor'].sum()\n",
        "  )\n",
        "consulta_saques = (\n",
        "  transacoes\n",
        "    .query('tipo_transacao == \"Saque\"')\n",
        "      .groupby(by='id_Conta')\n",
        "        ['valor'].sum()\n",
        "  )\n",
        "\n",
        "consulta_saldos = pd.merge(\n",
        "    consulta_depositos,\n",
        "    consulta_saques,\n",
        "    on='id_Conta'\n",
        "    )\n",
        "\n",
        "contas_col_renomeadas = (\n",
        "  contas[\n",
        "      ['id', 'agencia','numero', 'id_Cliente']\n",
        "      ]\n",
        "  .rename(\n",
        "      columns={'id': 'id_Conta', 'agencia': 'ag', 'numero': 'num'}\n",
        "      )\n",
        "  )\n",
        "contas_col_renomeadas['ag/num'] = (\n",
        "    contas_col_renomeadas['ag'].astype('str')\n",
        "  + '/'\n",
        "  + contas_col_renomeadas['num'].astype('str')\n",
        ")\n",
        "\n",
        "consulta_saldos = pd.merge(\n",
        "    contas_col_renomeadas[['id_Conta', 'ag/num']],\n",
        "    consulta_saldos,\n",
        "    on='id_Conta'\n",
        ")\n",
        "\n",
        "consulta_saldos['saldo'] = (\n",
        "    consulta_saldos['valor_x']\n",
        "  - consulta_saldos['valor_y']\n",
        "    )\n",
        "\n",
        "consulta_saldos.drop(columns=['valor_x', 'valor_y'], inplace=True)\n",
        "print(consulta_saldos)"
      ],
      "metadata": {
        "colab": {
          "base_uri": "https://localhost:8080/"
        },
        "id": "g_XNicTjJBNe",
        "outputId": "28db9fff-e687-46f1-e6b5-9938a6092413"
      },
      "execution_count": 12,
      "outputs": [
        {
          "output_type": "stream",
          "name": "stdout",
          "text": [
            "    id_Conta     ag/num       saldo\n",
            "0          1  1001/0001   530821.18\n",
            "1          2  0433/0001    55619.90\n",
            "2          3  1345/0001   497953.42\n",
            "3          4  1001/0002  1178175.16\n",
            "4          5  1884/0001   425254.48\n",
            "5          6  1992/0001    99511.33\n",
            "6          7  1345/0002   269546.65\n",
            "7          8  1345/0003  1355634.37\n",
            "8          9  1884/0002   263155.49\n",
            "9         10  0433/0002   775486.95\n",
            "10        11  1001/0003   185301.72\n",
            "11        12  1345/0004  1406786.81\n",
            "12        13  1884/0003   355373.53\n",
            "13        14  1345/0005   233762.98\n",
            "14        15  1001/0004  1860551.60\n",
            "15        16  1345/0006  1281013.95\n",
            "16        17  1992/0002  1537290.00\n",
            "17        18  1345/0007   589585.58\n",
            "18        19  1001/0005   580229.54\n",
            "19        20  1345/0008   355385.17\n",
            "20        21  1884/0004   142015.40\n",
            "21        22  1992/0003   148449.56\n",
            "22        23  1992/0004  1001224.94\n",
            "23        24  1992/0005  1494251.61\n",
            "24        25  1345/0009  1416203.77\n",
            "25        26  1992/0006   729501.44\n",
            "26        27  1884/0005   392159.27\n",
            "27        28  1001/0006   170651.98\n",
            "28        29  1884/0006   164285.96\n",
            "29        30  1992/0007    46003.93\n",
            "30        31  0433/0003   485225.89\n",
            "31        32  0433/0004   676293.91\n",
            "32        33  1001/0007  1427703.77\n",
            "33        34  1992/0008   455857.17\n"
          ]
        }
      ]
    },
    {
      "cell_type": "markdown",
      "source": [
        "#### >> Saldo total por tipo de pessoa:"
      ],
      "metadata": {
        "id": "UzDpe2lR528d"
      }
    },
    {
      "cell_type": "code",
      "source": [
        "saldo_total_com_id_cliente = pd.merge(\n",
        "    contas_col_renomeadas[['id_Conta', 'id_Cliente']],\n",
        "    consulta_saldos,\n",
        "    on='id_Conta'\n",
        ")\n",
        "\n",
        "saldo_de_contas_com_tipo_pessoa = pd.merge(\n",
        "    saldo_total_com_id_cliente,\n",
        "    clientes[['tipo_pessoa', 'id']].rename(columns={'id': 'id_Cliente'}),\n",
        "    on='id_Cliente', validate='many_to_one'\n",
        ").drop(columns=['ag/num', 'id_Conta', 'id_Cliente'])\n",
        "\n",
        "saldo_por_tipo_pessoa = (\n",
        "    saldo_de_contas_com_tipo_pessoa\n",
        "      .groupby('tipo_pessoa')['saldo']\n",
        "        .sum()\n",
        ")\n",
        "\n",
        "print(saldo_por_tipo_pessoa)"
      ],
      "metadata": {
        "id": "hkYiMEVlhoHa",
        "colab": {
          "base_uri": "https://localhost:8080/"
        },
        "outputId": "8414448c-e888-4bba-c595-5341dea26383"
      },
      "execution_count": 13,
      "outputs": [
        {
          "output_type": "stream",
          "name": "stdout",
          "text": [
            "tipo_pessoa\n",
            "PF    15908141.21\n",
            "PJ     6678127.20\n",
            "Name: saldo, dtype: float64\n"
          ]
        }
      ]
    },
    {
      "cell_type": "markdown",
      "source": [
        "### Com visualização por gráficos:"
      ],
      "metadata": {
        "id": "KMP1kwYJ-VdQ"
      }
    },
    {
      "cell_type": "markdown",
      "source": [
        "#### >> Saldos por tipo de pessoa em 'gráfico pizza'"
      ],
      "metadata": {
        "id": "sp4R6k1g-nK1"
      }
    },
    {
      "cell_type": "code",
      "source": [
        "saldo_por_tipo_pessoa.plot.pie()"
      ],
      "metadata": {
        "colab": {
          "base_uri": "https://localhost:8080/",
          "height": 424
        },
        "id": "9f-z-V-c-11U",
        "outputId": "be6eb0b6-3bfe-4cd8-bd6f-2ffad34824e4"
      },
      "execution_count": 14,
      "outputs": [
        {
          "output_type": "execute_result",
          "data": {
            "text/plain": [
              "<Axes: ylabel='saldo'>"
            ]
          },
          "metadata": {},
          "execution_count": 14
        },
        {
          "output_type": "display_data",
          "data": {
            "text/plain": [
              "<Figure size 640x480 with 1 Axes>"
            ],
            "image/png": "[encoded data removed]"
          },
          "metadata": {}
        }
      ]
    },
    {
      "cell_type": "markdown",
      "source": [
        "#### >> Balanço do fundo bancário ao longo do tempo em linha"
      ],
      "metadata": {
        "id": "rgJiDYZd_BEi"
      }
    },
    {
      "cell_type": "code",
      "source": [
        "transacoes['multiplicador'] = (\n",
        "    transacoes['tipo_transacao'].apply(\n",
        "        lambda tipo: -1 if tipo == 'Saque' else 1\n",
        "        )\n",
        "    )\n",
        "\n",
        "transacoes['valor_real'] = transacoes['valor'] * transacoes['multiplicador']\n",
        "\n",
        "transacoes_ordenadas_por_data = transacoes[\n",
        "    ['data', 'valor_real']\n",
        "].sort_values('data')\n",
        "\n",
        "balanco = []\n",
        "valor_atual = 0\n",
        "for valor_transacao in transacoes_ordenadas_por_data['valor_real']:\n",
        "  valor_atual += valor_transacao\n",
        "  balanco.append(valor_atual)\n",
        "\n",
        "transacoes_ordenadas_por_data['balanco'] = balanco\n",
        "\n",
        "transacoes_ordenadas_por_data.plot.line('data', 'balanco')"
      ],
      "metadata": {
        "colab": {
          "base_uri": "https://localhost:8080/",
          "height": 455
        },
        "id": "TbcV03Yg_OES",
        "outputId": "d44b94aa-11f1-485b-dd28-910bcad93b19"
      },
      "execution_count": 15,
      "outputs": [
        {
          "output_type": "execute_result",
          "data": {
            "text/plain": [
              "<Axes: xlabel='data'>"
            ]
          },
          "metadata": {},
          "execution_count": 15
        },
        {
          "output_type": "display_data",
          "data": {
            "text/plain": [
              "<Figure size 640x480 with 1 Axes>"
            ],
            "image/png": "[encoded data removed]"
          },
          "metadata": {}
        }
      ]
    }
  ]
}