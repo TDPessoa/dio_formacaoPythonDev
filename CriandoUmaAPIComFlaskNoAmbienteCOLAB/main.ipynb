{
  "nbformat": 4,
  "nbformat_minor": 0,
  "metadata": {
    "colab": {
      "provenance": [],
      "gpuType": "T4"
    },
    "kernelspec": {
      "name": "python3",
      "display_name": "Python 3"
    },
    "language_info": {
      "name": "python"
    }
  },
  "cells": [
    {
      "cell_type": "code",
      "execution_count": 1,
      "metadata": {
        "id": "Z5gnznWQrrn0",
        "colab": {
          "base_uri": "https://localhost:8080/"
        },
        "outputId": "dfa9b781-b4fb-4e76-a0d7-54c2bf803c85"
      },
      "outputs": [
        {
          "output_type": "stream",
          "name": "stdout",
          "text": [
            "Requirement already satisfied: flask in /usr/local/lib/python3.10/dist-packages (2.2.5)\n",
            "Requirement already satisfied: Werkzeug>=2.2.2 in /usr/local/lib/python3.10/dist-packages (from flask) (3.0.2)\n",
            "Requirement already satisfied: Jinja2>=3.0 in /usr/local/lib/python3.10/dist-packages (from flask) (3.1.3)\n",
            "Requirement already satisfied: itsdangerous>=2.0 in /usr/local/lib/python3.10/dist-packages (from flask) (2.1.2)\n",
            "Requirement already satisfied: click>=8.0 in /usr/local/lib/python3.10/dist-packages (from flask) (8.1.7)\n",
            "Requirement already satisfied: MarkupSafe>=2.0 in /usr/local/lib/python3.10/dist-packages (from Jinja2>=3.0->flask) (2.1.5)\n",
            "Requirement already satisfied: pyngrok in /usr/local/lib/python3.10/dist-packages (7.1.6)\n",
            "Requirement already satisfied: PyYAML>=5.1 in /usr/local/lib/python3.10/dist-packages (from pyngrok) (6.0.1)\n"
          ]
        }
      ],
      "source": [
        "!pip install flask\n",
        "!pip install pyngrok"
      ]
    },
    {
      "cell_type": "code",
      "source": [
        "ngrok_key = \"2ei0zdrFR54PLqWy8UT6Z15J50O_6ZkqnB7iSPWU4gksb2rNH\"\n",
        "port = 5000"
      ],
      "metadata": {
        "id": "PPa52nhAVMJ1"
      },
      "execution_count": 2,
      "outputs": []
    },
    {
      "cell_type": "code",
      "source": [
        "from pyngrok import ngrok\n",
        "import pandas as pd\n",
        "from flask import (\n",
        "    request,\n",
        "    Flask\n",
        ")\n",
        "\n",
        "ngrok.set_auth_token(ngrok_key)\n",
        "url = ngrok.connect(port).public_url\n"
      ],
      "metadata": {
        "id": "vNgpfUYsZJzE"
      },
      "execution_count": 3,
      "outputs": []
    },
    {
      "cell_type": "code",
      "source": [
        "app = Flask(__name__)"
      ],
      "metadata": {
        "id": "CJ9vKbVIsdF0"
      },
      "execution_count": 4,
      "outputs": []
    },
    {
      "cell_type": "code",
      "source": [
        "data_base = {\n",
        "  1: {\n",
        "      'name': 'Mahesh',\n",
        "      'age': 25,\n",
        "      'city': 'Bangalore',\n",
        "      'country': 'India'\n",
        "  },\n",
        "  2: {\n",
        "      'name': 'Alex',\n",
        "      'age': 26,\n",
        "      'city': 'London',\n",
        "      'country': 'UK'\n",
        "  },\n",
        "  3: {\n",
        "      'name': 'David',\n",
        "      'age': 27,\n",
        "      'city': 'San Francisco',\n",
        "      'country': 'USA'\n",
        "  },\n",
        "  4: {\n",
        "      'name': 'Jhon',\n",
        "      'age': 28,\n",
        "      'city': 'Toronto',\n",
        "      'country': 'Canada'\n",
        "  },\n",
        "  5: {\n",
        "      'name': 'Chris',\n",
        "      'age': 29,\n",
        "      'city': 'Paris',\n",
        "      'country': 'France'\n",
        "  },\n",
        "  6: {\n",
        "      'name': 'Thiago',\n",
        "      'age': 28,\n",
        "      'city': 'Queimados',\n",
        "      'country': 'Brazil'\n",
        "  }\n",
        "}"
      ],
      "metadata": {
        "id": "BS6e7NpbqOXt"
      },
      "execution_count": 5,
      "outputs": []
    },
    {
      "cell_type": "code",
      "source": [
        "def generate_html_with_names() -> str:\n",
        "  global data_base\n",
        "  global url\n",
        "  html_string = \"\"\n",
        "  for id in data_base:\n",
        "    html_string += f'<li><a href={url}/{id}>{data_base[id][\"name\"]}</a></li>'\n",
        "\n",
        "  return html_string"
      ],
      "metadata": {
        "id": "fcrEecbmr2C-"
      },
      "execution_count": 6,
      "outputs": []
    },
    {
      "cell_type": "code",
      "source": [
        "@app.route('/<int:id>')\n",
        "\n",
        "def open_record(id):\n",
        "  global data_base\n",
        "  return (\n",
        "      f\"<html>\"\n",
        "        f\"<header>\"\n",
        "          f\"<h1 align='center'>Visualize Record</h1>\"\n",
        "        f\"</header>\"\n",
        "        f\"<body>\"\n",
        "          f\"<table>\"\n",
        "            f\"<tr>\"\n",
        "              f\"<td align='left'>\"\n",
        "                f\"<p>Record id:</p>\"\n",
        "              f\"</td>\"\n",
        "              f\"<td align='right'>\"\n",
        "                f\"<p>{id:04d}</p>\"\n",
        "              f\"</td>\"\n",
        "            f\"</tr>\"\n",
        "            f\"<tr>\"\n",
        "              f\"<td align='left'>\"\n",
        "                f\"<p>Name:</p>\"\n",
        "              f\"</td>\"\n",
        "              f\"<td align='right'>\"\n",
        "                f\"<p>{data_base[id]['name']}</p>\"\n",
        "              f\"</td>\"\n",
        "            f\"</tr>\"\n",
        "            f\"<tr>\"\n",
        "              f\"<td align='left'>\"\n",
        "                f\"<p>Age:</p>\"\n",
        "              f\"</td>\"\n",
        "              f\"<td align='right'>\"\n",
        "                f\"<p>{data_base[id]['age']}</p>\"\n",
        "              f\"</td>\"\n",
        "            f\"</tr>\"\n",
        "            f\"<tr>\"\n",
        "              f\"<td align='left'>\"\n",
        "                f\"<p>City/Country:</p>\"\n",
        "              f\"</td>\"\n",
        "              f\"<td align='right'>\"\n",
        "                f\"<p>{data_base[id]['city']}/{data_base[id]['country']}</p>\"\n",
        "              f\"</td>\"\n",
        "            f\"</tr>\"\n",
        "          f\"</table>\"\n",
        "          f\"<a href={url}/>Back</a>\"\n",
        "        f\"</body:\"\n",
        "      f\"</html>\"\n",
        "  )"
      ],
      "metadata": {
        "id": "rIRQgZjNsn0p"
      },
      "execution_count": 7,
      "outputs": []
    },
    {
      "cell_type": "code",
      "source": [
        "@app.route(\"/\")\n",
        "\n",
        "def home():\n",
        "  return (\n",
        "      f\"<html>\"\n",
        "        f\"<header>\"\n",
        "          f\"<h1 align='center'>DIO's Challenge #5</h1>\"\n",
        "        f\"</header>\"\n",
        "        f\"<body>\"\n",
        "          f\"<h2 align='center'>Welcome!!</h2>\"\n",
        "          f\"<h3>Choose a record:</h3>\"\n",
        "          f\"{generate_html_with_names()}\"\n",
        "        f\"</body>\"\n",
        "      f\"</html>\")"
      ],
      "metadata": {
        "id": "0jur-Ra6sycX"
      },
      "execution_count": 8,
      "outputs": []
    },
    {
      "cell_type": "code",
      "source": [
        "print(url)"
      ],
      "metadata": {
        "colab": {
          "base_uri": "https://localhost:8080/"
        },
        "id": "fum5KZkvTcpn",
        "outputId": "3f29edb5-0716-403c-8ef0-d51d9a819125"
      },
      "execution_count": 9,
      "outputs": [
        {
          "output_type": "stream",
          "name": "stdout",
          "text": [
            "https://a483-34-75-219-86.ngrok-free.app\n"
          ]
        }
      ]
    },
    {
      "cell_type": "code",
      "source": [
        "app.run(port = port)"
      ],
      "metadata": {
        "colab": {
          "base_uri": "https://localhost:8080/"
        },
        "id": "Y713WP0JxMmQ",
        "outputId": "2f67dd06-75ef-44a3-e30d-83611c8c429d"
      },
      "execution_count": null,
      "outputs": [
        {
          "output_type": "stream",
          "name": "stdout",
          "text": [
            " * Serving Flask app '__main__'\n",
            " * Debug mode: off\n"
          ]
        },
        {
          "output_type": "stream",
          "name": "stderr",
          "text": [
            "INFO:werkzeug:\u001b[31m\u001b[1mWARNING: This is a development server. Do not use it in a production deployment. Use a production WSGI server instead.\u001b[0m\n",
            " * Running on http://127.0.0.1:5000\n",
            "INFO:werkzeug:\u001b[33mPress CTRL+C to quit\u001b[0m\n",
            "INFO:werkzeug:127.0.0.1 - - [07/Apr/2024 21:01:43] \"GET / HTTP/1.1\" 200 -\n",
            "INFO:werkzeug:127.0.0.1 - - [07/Apr/2024 21:01:43] \"\u001b[33mGET /favicon.ico HTTP/1.1\u001b[0m\" 404 -\n",
            "INFO:werkzeug:127.0.0.1 - - [07/Apr/2024 21:01:56] \"GET /6 HTTP/1.1\" 200 -\n",
            "INFO:werkzeug:127.0.0.1 - - [07/Apr/2024 21:02:05] \"GET / HTTP/1.1\" 200 -\n",
            "INFO:werkzeug:127.0.0.1 - - [07/Apr/2024 21:02:06] \"GET /3 HTTP/1.1\" 200 -\n",
            "INFO:werkzeug:127.0.0.1 - - [07/Apr/2024 21:02:08] \"GET / HTTP/1.1\" 200 -\n"
          ]
        }
      ]
    }
  ]
}